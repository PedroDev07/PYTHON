{
  "nbformat": 4,
  "nbformat_minor": 0,
  "metadata": {
    "colab": {
      "name": "atividade_modulo_4.ipynb",
      "provenance": []
    },
    "kernelspec": {
      "name": "python3",
      "display_name": "Python 3"
    },
    "language_info": {
      "name": "python"
    }
  },
  "cells": [
    {
      "cell_type": "code",
      "execution_count": 139,
      "metadata": {
        "colab": {
          "base_uri": "https://localhost:8080/"
        },
        "id": "w1nEOh-8swAl",
        "outputId": "36a5a8f3-2a07-4ca4-a792-8fe4fe5f685f"
      },
      "outputs": [
        {
          "output_type": "stream",
          "name": "stdout",
          "text": [
            "Overwriting carros.csv\n"
          ]
        }
      ],
      "source": [
        "%%writefile carros.csv\n",
        "id,valor_venda,valor_manutencao,portas,pessoas,porta_malas\n",
        "1,vhigh,med,2,2,small\n",
        "2,med,vhigh,2,2,small\n",
        "3,low,vhigh,2,2,small\n",
        "4,low,high,2,2,small\n",
        "5,low,high,2,2,small\n",
        "6,low,high,4,4,big\n",
        "7,low,high,4,4,big\n",
        "8,low,med,2,2,small\n",
        "9,low,med,2,2,small\n",
        "10,low,med,2,2,small\n",
        "11,low,med,4,4,big\n",
        "12,low,low,2,2,small\n",
        "13,low,low,4,4,small"
      ]
    },
    {
      "cell_type": "code",
      "source": [
        "def extrai_coluna_csv(nome_arquivo: str, indice_coluna: int, tipo_dado: str) -> list: #Definindo a função\n",
        "   \n",
        "  coluna = []\n",
        "\n",
        "  with open(file='./carros.csv', mode='r', encoding='utf8') as arquivo: #abrindo arquivo csv\n",
        "    linha = arquivo.readline()#lendo a primeira linha\n",
        "    while linha:#enquanto linha não tiver valor nulo faça:\n",
        "      linha_separada = linha.split(sep=',')# quebra a string nas virgulas e salva os resultados em uma lista\n",
        "      separando = linha_separada[indice_coluna]# seleciona o elemento x da lista\n",
        "      coluna.append(separando)# salva o valor na lista de coluna\n",
        "      linha = arquivo.readline()# lê uma nova linha, se a linha não existir, salva o valor None\n",
        "\n",
        "  return coluna"
      ],
      "metadata": {
        "id": "qdk3nU_st34x"
      },
      "execution_count": 140,
      "outputs": []
    },
    {
      "cell_type": "code",
      "source": [
        "valor_venda = extrai_coluna_csv (nome_arquivo='./carros.csv', indice_coluna=1, tipo_dado='str')#Chamando a função\n",
        "print(valor_venda)#printando a função\n",
        "\n",
        "\n",
        "#Da forma que está escrito no pdf da atividade\n",
        "pessoas = extrai_coluna_csv(\n",
        " nome_arquivo='./carros.csv',\n",
        " indice_coluna=4,\n",
        " tipo_dado='int'\n",
        ")\n",
        "print(pessoas)"
      ],
      "metadata": {
        "colab": {
          "base_uri": "https://localhost:8080/"
        },
        "id": "DH6SDm0R3dFI",
        "outputId": "136ca887-c067-4d21-88cd-2a82bc2b3928"
      },
      "execution_count": 160,
      "outputs": [
        {
          "output_type": "stream",
          "name": "stdout",
          "text": [
            "['valor_venda', 'vhigh', 'med', 'low', 'low', 'low', 'low', 'low', 'low', 'low', 'low', 'low', 'low', 'low']\n",
            "['pessoas', '2', '2', '2', '2', '2', '4', '4', '2', '2', '2', '4', '2', '4']\n"
          ]
        }
      ]
    },
    {
      "cell_type": "code",
      "source": [
        "%%writefile musica.txt\n",
        "Roda Viva\n",
        "Chico Buarque\n",
        "Tem dias que a gente se sente\n",
        "Como quem partiu ou morreu\n",
        "A gente estancou de repente\n",
        "Ou foi o mundo então que cresceu\n",
        "A gente quer ter voz ativa\n",
        "No nosso destino mandar\n",
        "Mas eis que chega a roda viva\n",
        "E carrega o destino pra lá\n",
        "Roda mundo, roda-gigante\n",
        "Roda moinho, roda pião\n",
        "O tempo rodou num instante\n",
        "Nas voltas do meu coração\n",
        "A gente vai contra a corrente\n",
        "Até não poder resistir\n",
        "Na volta do barco é que sente\n",
        "O quanto deixou de cumprir\n",
        "Faz tempo que a gente cultiva\n",
        "A mais linda roseira que há\n",
        "Mas eis que chega a roda viva\n",
        "E carrega a roseira pra lá\n",
        "Roda mundo, roda-gigante\n",
        "Roda moinho, roda pião"
      ],
      "metadata": {
        "colab": {
          "base_uri": "https://localhost:8080/"
        },
        "id": "AWmWmOhUVMI9",
        "outputId": "4e2e9101-63fb-4972-ee01-574657393af0"
      },
      "execution_count": 142,
      "outputs": [
        {
          "output_type": "stream",
          "name": "stdout",
          "text": [
            "Overwriting musica.txt\n"
          ]
        }
      ]
    },
    {
      "cell_type": "code",
      "source": [
        "def extrair_linha_txt (nome_arquivo:str , numero_linha:int) -> list:#Definindo a função\n",
        "\n",
        "  palavras_linha = []\n",
        "\n",
        "  with open(file='./musica.txt', mode='r', encoding='utf8') as leitura: #abrindo arquivo txt em modo somente leitura\n",
        "    linha = leitura.readline()#lendo a primeira linha\n",
        "    while linha:#enquanto linha não tiver valor nulo faça:\n",
        "      palavras_linha.append(linha)# salva o valor na lista de palavas linha\n",
        "      linha = leitura.readline()# lê uma nova linha, se a linha não existir, salva o valor None\n",
        "      numero_linhax = numero_linha - 2# Estou subtraindo 2 do indice para ficar compatível com a solicitação da atividade\n",
        "  palavras_linha = palavras_linha[numero_linhax]# printando a linha que será utilizada na chamada da função\n",
        "  return palavras_linha# retornando o valor final\n"
      ],
      "metadata": {
        "id": "JuXdSx37VXeF"
      },
      "execution_count": 159,
      "outputs": []
    },
    {
      "cell_type": "code",
      "source": [
        "linha10 = extrair_linha_txt (nome_arquivo='./musica.txt', numero_linha=10)#Chamando a função\n",
        "print(linha10)# imprime a função"
      ],
      "metadata": {
        "colab": {
          "base_uri": "https://localhost:8080/"
        },
        "id": "qiouH62dcv03",
        "outputId": "6eabcc8a-7f1a-48d9-c670-fb0323b69554"
      },
      "execution_count": 161,
      "outputs": [
        {
          "output_type": "stream",
          "name": "stdout",
          "text": [
            "Mas eis que chega a roda viva\n",
            "\n"
          ]
        }
      ]
    }
  ]
}