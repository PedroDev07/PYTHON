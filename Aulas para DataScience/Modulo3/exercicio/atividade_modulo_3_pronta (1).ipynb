{
  "nbformat": 4,
  "nbformat_minor": 0,
  "metadata": {
    "colab": {
      "name": "atividade_modulo_3_pronta.ipynb",
      "provenance": []
    },
    "kernelspec": {
      "name": "python3",
      "display_name": "Python 3"
    },
    "language_info": {
      "name": "python"
    }
  },
  "cells": [
    {
      "cell_type": "code",
      "execution_count": 1,
      "metadata": {
        "id": "2EzWXT75n3v6"
      },
      "outputs": [],
      "source": [
        "propaganda_online = [\n",
        " {'tempo_gasto_site': 68.95, 'idade': 35, 'renda_area': 61833.90,\n",
        " 'tempo_gasto_internet': 256.09, 'cidade': 'Wrightburgh',\n",
        " 'pais': 'Tunisia', 'clicou_no_ad': 0\n",
        " },\n",
        " {'tempo_gasto_site': 80.23, 'idade': 31, 'renda_area': 68441.85,\n",
        " 'tempo_gasto_internet': 193.77, 'cidade': 'West Jodi',\n",
        " 'pais': 'Nauru', 'clicou_no_ad': 0\n",
        " },\n",
        " {'tempo_gasto_site': 69.47, 'idade': 26, 'renda_area': 59785.94,\n",
        " 'tempo_gasto_internet': 236.50, 'cidade': 'Davidton',\n",
        " 'pais': 'San Marino', 'clicou_no_ad': 0\n",
        " },\n",
        " {'tempo_gasto_site': 68.37, 'idade': 35, 'renda_area': 73889.99,\n",
        " 'tempo_gasto_internet': 225.58, 'cidade': 'South Manuel',\n",
        " 'pais': 'Iceland', 'clicou_no_ad': 0\n",
        " },\n",
        " {'tempo_gasto_site': 88.91, 'idade': 33, 'renda_area': 53852.85,\n",
        " 'tempo_gasto_internet': 208.36, 'cidade': 'Brandonstad',\n",
        " 'pais': 'Myanmar', 'clicou_no_ad': 0\n",
        " },\n",
        " {'tempo_gasto_site': None, 'idade': 48, 'renda_area': 24593.33,\n",
        " 'tempo_gasto_internet': 131.76, 'cidade': 'Port Jefferybury',\n",
        " 'pais': 'Australia', 'clicou_no_ad': 1\n",
        " },\n",
        " {'tempo_gasto_site': 74.53, 'idade': 30, 'renda_area': 68862.00,\n",
        " 'tempo_gasto_internet': 221.51, 'cidade': 'West Colin',\n",
        " 'pais': 'Grenada'\n",
        " },\n",
        " {'tempo_gasto_site': 69.88, 'idade': 20, 'renda_area': 55642.32,\n",
        " 'tempo_gasto_internet': 183.82, 'cidade': 'Ramirezton',\n",
        " 'pais': 'Ghana', 'clicou_no_ad': 0\n",
        " }\n",
        "]"
      ]
    },
    {
      "cell_type": "code",
      "source": [
        "for dado_de_usuario in propaganda_online:\n",
        "  print(dado_de_usuario)"
      ],
      "metadata": {
        "colab": {
          "base_uri": "https://localhost:8080/"
        },
        "id": "XJrq-7lwopV5",
        "outputId": "180e4d35-69ca-4a71-9195-c416c1ed9190"
      },
      "execution_count": null,
      "outputs": [
        {
          "output_type": "stream",
          "name": "stdout",
          "text": [
            "{'tempo_gasto_site': 68.95, 'idade': 35, 'renda_area': 61833.9, 'tempo_gasto_internet': 256.09, 'cidade': 'Wrightburgh', 'pais': 'Tunisia', 'clicou_no_ad': 0}\n",
            "{'tempo_gasto_site': 80.23, 'idade': 31, 'renda_area': 68441.85, 'tempo_gasto_internet': 193.77, 'cidade': 'West Jodi', 'pais': 'Nauru', 'clicou_no_ad': 0}\n",
            "{'tempo_gasto_site': 69.47, 'idade': 26, 'renda_area': 59785.94, 'tempo_gasto_internet': 236.5, 'cidade': 'Davidton', 'pais': 'San Marino', 'clicou_no_ad': 0}\n",
            "{'tempo_gasto_site': 68.37, 'idade': 35, 'renda_area': 73889.99, 'tempo_gasto_internet': 225.58, 'cidade': 'South Manuel', 'pais': 'Iceland', 'clicou_no_ad': 0}\n",
            "{'tempo_gasto_site': 88.91, 'idade': 33, 'renda_area': 53852.85, 'tempo_gasto_internet': 208.36, 'cidade': 'Brandonstad', 'pais': 'Myanmar', 'clicou_no_ad': 0}\n",
            "{'tempo_gasto_site': None, 'idade': 48, 'renda_area': 24593.33, 'tempo_gasto_internet': 131.76, 'cidade': 'Port Jefferybury', 'pais': 'Australia', 'clicou_no_ad': 1}\n",
            "{'tempo_gasto_site': 74.53, 'idade': 30, 'renda_area': 68862.0, 'tempo_gasto_internet': 221.51, 'cidade': 'West Colin', 'pais': 'Grenada'}\n",
            "{'tempo_gasto_site': 69.88, 'idade': 20, 'renda_area': 55642.32, 'tempo_gasto_internet': 183.82, 'cidade': 'Ramirezton', 'pais': 'Ghana', 'clicou_no_ad': 0}\n"
          ]
        }
      ]
    },
    {
      "cell_type": "code",
      "source": [
        "print(type(propaganda_online))\n",
        "print(type(dado_de_usuario))"
      ],
      "metadata": {
        "colab": {
          "base_uri": "https://localhost:8080/"
        },
        "id": "H1Qe28Ygo47P",
        "outputId": "813c301b-85bb-49bf-af01-d161ae3eeb62"
      },
      "execution_count": null,
      "outputs": [
        {
          "output_type": "stream",
          "name": "stdout",
          "text": [
            "<class 'list'>\n",
            "<class 'dict'>\n"
          ]
        }
      ]
    },
    {
      "cell_type": "code",
      "source": [
        "paises=[]\n",
        "#Abrindo um for para tratar os dados em forma de dicionario(dict)\n",
        "for dado_de_usuario in propaganda_online:\n",
        "\n",
        "#adicionando uma condição para extrair o pais apenas de usuarios com idade superior a 30 anos\n",
        "  if dado_de_usuario['idade'] > 30:\n",
        "    extrair_paises = [dado_de_usuario['pais']]\n",
        "    paises.append(extrair_paises)\n",
        "print('------------------------------------------------------')\n",
        "print(f'Os paises onde os usuarios tem idade maior que 30 anos, são: {paises}')\n",
        "print(type(paises))"
      ],
      "metadata": {
        "id": "bqLh2ADTrlwa",
        "colab": {
          "base_uri": "https://localhost:8080/"
        },
        "outputId": "92ee2bbc-f685-4a0a-891f-6d50262eb860"
      },
      "execution_count": null,
      "outputs": [
        {
          "output_type": "stream",
          "name": "stdout",
          "text": [
            "------------------------------------------------------\n",
            "Os paises onde os usuarios tem idade maior que 30 anos, são: [['Tunisia'], ['Nauru'], ['Iceland'], ['Myanmar'], ['Australia']]\n",
            "<class 'list'>\n"
          ]
        }
      ]
    },
    {
      "cell_type": "code",
      "source": [
        "leads = []\n",
        "#Abrindo um for para tratar os dados em forma de dicionario(dict)\n",
        "for dado_de_usuario in propaganda_online:\n",
        "\n",
        "#Como podemos perceber uma exceção nos dados passados no exercicios, vamos utilizar um try/except para que consigamos prosseguir com o código\n",
        "  try:\n",
        "\n",
        "#Vamos agora extrair através do if o salário de quem clicou no anuncio    \n",
        "    if dado_de_usuario ['clicou_no_ad'] > 0:\n",
        "     extrair_leads =[ dado_de_usuario['renda_area']]\n",
        "     leads.append(extrair_leads)\n",
        "\n",
        "#Vamos capturar e apresentar os erros junto com o resultado final do código     \n",
        "  except KeyError as exc:\n",
        "      print('------------------------------------------------------')\n",
        "      print('Abaixo temos uma apresentação de erros devido as entradas invalidas na váriavel propaganda_online:')\n",
        "      print('Descrição da exceção: ' + str(exc))\n",
        "      print('Tipo da exceção: ' + str(type(exc)))\n",
        "      print('Isso está ocorrendo pois uma das listas não possui o elemento de dicionario \"clicou no ad\" ')\n",
        "      print('------------------------------------------------------')\n",
        "      print(f'O usuario que clicou no anúncio tem um salário igual a: {leads}')\n",
        "      print(type(leads))\n"
      ],
      "metadata": {
        "colab": {
          "base_uri": "https://localhost:8080/"
        },
        "id": "ZUiZo22V_Sg0",
        "outputId": "9a757a7d-d391-4dba-b18f-0fc1553a0445"
      },
      "execution_count": null,
      "outputs": [
        {
          "output_type": "stream",
          "name": "stdout",
          "text": [
            "------------------------------------------------------\n",
            "Abaixo temos uma apresentação de erros devido as entradas invalidas na váriavel propaganda_online:\n",
            "Descrição da exceção: 'clicou_no_ad'\n",
            "Tipo da exceção: <class 'KeyError'>\n",
            "Isso está ocorrendo pois uma das listas não possui o dicionario \"clicou no ad\" \n",
            "------------------------------------------------------\n",
            "O usuario que clicou no anúncio tem um salário igual a: [[24593.33]]\n",
            "<class 'list'>\n"
          ]
        }
      ]
    },
    {
      "cell_type": "code",
      "source": [
        "cidades = []\n",
        "#Abrindo um for para tratar os dados em forma de dicionario(dict)\n",
        "\n",
        "for dado_de_usuario in propaganda_online:\n",
        "#Como podemos perceber uma exceção nos dados passados no exercicios, vamos utilizar um try/except para que consigamos prosseguir com o código \n",
        "\n",
        "  try:\n",
        "#Vamos agora extrair através do if a cidade de quem passa mais de 70 segundos no site    \n",
        "\n",
        "    if dado_de_usuario['tempo_gasto_site'] > 70:\n",
        "      extrair_cidades =[ dado_de_usuario['cidade']]\n",
        "      cidades.append(extrair_cidades)\n",
        "      \n",
        "#Vamos capturar e apresentar os erros junto com o resultado final do código \n",
        "  except TypeError as exc:\n",
        "      print('------------------------------------------------------')\n",
        "      print('Abaixo temos uma apresentação de erros devido as entradas invalidas na váriavel propaganda_online:')\n",
        "      print('Descrição da exceção: ' + str(exc))\n",
        "      print('Tipo da exceção: ' + str(type(exc)))\n",
        "      print('Isso está ocorrendo pois um dos elementos do dicionarios tem um tipo diferente de todos os outros')\n",
        "      print('------------------------------------------------------')\n",
        "print(f'O usuario que clicou no anúncio tem um salário igual a: {cidades}')\n",
        "print(type(cidades))\n",
        "\n"
      ],
      "metadata": {
        "colab": {
          "base_uri": "https://localhost:8080/"
        },
        "id": "PN4D2dALCecx",
        "outputId": "3d84c0e7-a178-4bfc-e90f-e9b214a8a33b"
      },
      "execution_count": 12,
      "outputs": [
        {
          "output_type": "stream",
          "name": "stdout",
          "text": [
            "------------------------------------------------------\n",
            "Abaixo temos uma apresentação de erros devido as entradas invalidas na váriavel propaganda_online:\n",
            "Descrição da exceção: '>' not supported between instances of 'NoneType' and 'int'\n",
            "Tipo da exceção: <class 'TypeError'>\n",
            "Isso está ocorrendo pois um dos elementos do dicionarios tem um tipo diferente de todos os outros\n",
            "------------------------------------------------------\n",
            "O usuario que clicou no anúncio tem um salário igual a: [['West Jodi'], ['Brandonstad'], ['West Colin']]\n",
            "<class 'list'>\n"
          ]
        }
      ]
    }
  ]
}